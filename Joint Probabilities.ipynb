{
 "cells": [
  {
   "cell_type": "code",
   "execution_count": 6,
   "metadata": {},
   "outputs": [
    {
     "name": "stdout",
     "output_type": "stream",
     "text": [
      "Collecting datascience\n",
      "  Downloading datascience-0.15.6.tar.gz (42 kB)\n",
      "Collecting folium>=0.9.1\n",
      "  Downloading folium-0.11.0-py2.py3-none-any.whl (93 kB)\n",
      "Requirement already satisfied: sphinx in c:\\users\\lenovo\\anaconda3\\lib\\site-packages (from datascience) (2.4.0)\n",
      "Requirement already satisfied: setuptools in c:\\users\\lenovo\\anaconda3\\lib\\site-packages (from datascience) (46.1.1.post20200323)\n",
      "Requirement already satisfied: matplotlib>=3.0.0 in c:\\users\\lenovo\\anaconda3\\lib\\site-packages (from datascience) (3.1.3)\n",
      "Requirement already satisfied: pandas in c:\\users\\lenovo\\anaconda3\\lib\\site-packages (from datascience) (1.0.3)\n",
      "Requirement already satisfied: scipy in c:\\users\\lenovo\\anaconda3\\lib\\site-packages (from datascience) (1.4.1)\n",
      "Requirement already satisfied: numpy in c:\\users\\lenovo\\anaconda3\\lib\\site-packages (from datascience) (1.18.1)\n",
      "Requirement already satisfied: ipython in c:\\users\\lenovo\\anaconda3\\lib\\site-packages (from datascience) (7.13.0)\n",
      "Requirement already satisfied: pytest in c:\\users\\lenovo\\anaconda3\\lib\\site-packages (from datascience) (5.4.1)\n",
      "Collecting coverage\n",
      "  Downloading coverage-5.1-cp37-cp37m-win_amd64.whl (205 kB)\n",
      "Collecting coveralls\n",
      "  Downloading coveralls-2.0.0-py2.py3-none-any.whl (12 kB)\n",
      "Requirement already satisfied: bokeh in c:\\users\\lenovo\\anaconda3\\lib\\site-packages (from datascience) (2.0.0)\n",
      "Requirement already satisfied: requests in c:\\users\\lenovo\\anaconda3\\lib\\site-packages (from folium>=0.9.1->datascience) (2.23.0)\n",
      "Requirement already satisfied: jinja2>=2.9 in c:\\users\\lenovo\\anaconda3\\lib\\site-packages (from folium>=0.9.1->datascience) (2.11.1)\n",
      "Collecting branca>=0.3.0\n",
      "  Downloading branca-0.4.1-py3-none-any.whl (24 kB)\n",
      "Requirement already satisfied: sphinxcontrib-qthelp in c:\\users\\lenovo\\anaconda3\\lib\\site-packages (from sphinx->datascience) (1.0.3)\n",
      "Requirement already satisfied: sphinxcontrib-jsmath in c:\\users\\lenovo\\anaconda3\\lib\\site-packages (from sphinx->datascience) (1.0.1)\n",
      "Requirement already satisfied: sphinxcontrib-serializinghtml in c:\\users\\lenovo\\anaconda3\\lib\\site-packages (from sphinx->datascience) (1.1.4)\n",
      "Requirement already satisfied: babel!=2.0,>=1.3 in c:\\users\\lenovo\\anaconda3\\lib\\site-packages (from sphinx->datascience) (2.8.0)\n",
      "Requirement already satisfied: sphinxcontrib-devhelp in c:\\users\\lenovo\\anaconda3\\lib\\site-packages (from sphinx->datascience) (1.0.2)\n",
      "Requirement already satisfied: Pygments>=2.0 in c:\\users\\lenovo\\anaconda3\\lib\\site-packages (from sphinx->datascience) (2.6.1)\n",
      "Requirement already satisfied: snowballstemmer>=1.1 in c:\\users\\lenovo\\anaconda3\\lib\\site-packages (from sphinx->datascience) (2.0.0)\n",
      "Requirement already satisfied: alabaster<0.8,>=0.7 in c:\\users\\lenovo\\anaconda3\\lib\\site-packages (from sphinx->datascience) (0.7.12)\n",
      "Requirement already satisfied: docutils>=0.12 in c:\\users\\lenovo\\anaconda3\\lib\\site-packages (from sphinx->datascience) (0.16)\n",
      "Requirement already satisfied: sphinxcontrib-htmlhelp in c:\\users\\lenovo\\anaconda3\\lib\\site-packages (from sphinx->datascience) (1.0.3)\n",
      "Requirement already satisfied: packaging in c:\\users\\lenovo\\anaconda3\\lib\\site-packages (from sphinx->datascience) (20.3)\n",
      "Requirement already satisfied: imagesize in c:\\users\\lenovo\\anaconda3\\lib\\site-packages (from sphinx->datascience) (1.2.0)\n",
      "Requirement already satisfied: sphinxcontrib-applehelp in c:\\users\\lenovo\\anaconda3\\lib\\site-packages (from sphinx->datascience) (1.0.2)\n",
      "Requirement already satisfied: colorama>=0.3.5; sys_platform == \"win32\" in c:\\users\\lenovo\\anaconda3\\lib\\site-packages (from sphinx->datascience) (0.4.3)\n",
      "Requirement already satisfied: python-dateutil>=2.1 in c:\\users\\lenovo\\anaconda3\\lib\\site-packages (from matplotlib>=3.0.0->datascience) (2.8.1)\n",
      "Requirement already satisfied: kiwisolver>=1.0.1 in c:\\users\\lenovo\\anaconda3\\lib\\site-packages (from matplotlib>=3.0.0->datascience) (1.1.0)\n",
      "Requirement already satisfied: cycler>=0.10 in c:\\users\\lenovo\\anaconda3\\lib\\site-packages (from matplotlib>=3.0.0->datascience) (0.10.0)\n",
      "Requirement already satisfied: pyparsing!=2.0.4,!=2.1.2,!=2.1.6,>=2.0.1 in c:\\users\\lenovo\\anaconda3\\lib\\site-packages (from matplotlib>=3.0.0->datascience) (2.4.6)\n",
      "Requirement already satisfied: pytz>=2017.2 in c:\\users\\lenovo\\anaconda3\\lib\\site-packages (from pandas->datascience) (2019.3)\n",
      "Requirement already satisfied: pickleshare in c:\\users\\lenovo\\anaconda3\\lib\\site-packages (from ipython->datascience) (0.7.5)\n",
      "Requirement already satisfied: traitlets>=4.2 in c:\\users\\lenovo\\anaconda3\\lib\\site-packages (from ipython->datascience) (4.3.3)\n",
      "Requirement already satisfied: backcall in c:\\users\\lenovo\\anaconda3\\lib\\site-packages (from ipython->datascience) (0.1.0)\n",
      "Requirement already satisfied: prompt-toolkit!=3.0.0,!=3.0.1,<3.1.0,>=2.0.0 in c:\\users\\lenovo\\anaconda3\\lib\\site-packages (from ipython->datascience) (3.0.3)\n",
      "Requirement already satisfied: jedi>=0.10 in c:\\users\\lenovo\\anaconda3\\lib\\site-packages (from ipython->datascience) (0.15.2)\n",
      "Requirement already satisfied: decorator in c:\\users\\lenovo\\anaconda3\\lib\\site-packages (from ipython->datascience) (4.4.2)\n",
      "Requirement already satisfied: py>=1.5.0 in c:\\users\\lenovo\\anaconda3\\lib\\site-packages (from pytest->datascience) (1.8.1)\n",
      "Requirement already satisfied: attrs>=17.4.0 in c:\\users\\lenovo\\anaconda3\\lib\\site-packages (from pytest->datascience) (19.3.0)\n",
      "Requirement already satisfied: more-itertools>=4.0.0 in c:\\users\\lenovo\\anaconda3\\lib\\site-packages (from pytest->datascience) (8.2.0)\n",
      "Requirement already satisfied: pluggy<1.0,>=0.12 in c:\\users\\lenovo\\anaconda3\\lib\\site-packages (from pytest->datascience) (0.13.1)\n",
      "Requirement already satisfied: wcwidth in c:\\users\\lenovo\\anaconda3\\lib\\site-packages (from pytest->datascience) (0.1.8)\n",
      "Requirement already satisfied: importlib-metadata>=0.12 in c:\\users\\lenovo\\anaconda3\\lib\\site-packages (from pytest->datascience) (1.5.0)\n",
      "Requirement already satisfied: atomicwrites>=1.0 in c:\\users\\lenovo\\anaconda3\\lib\\site-packages (from pytest->datascience) (1.3.0)\n",
      "Requirement already satisfied: docopt>=0.6.1 in c:\\users\\lenovo\\anaconda3\\lib\\site-packages (from coveralls->datascience) (0.6.2)\n",
      "Requirement already satisfied: PyYAML>=3.10 in c:\\users\\lenovo\\anaconda3\\lib\\site-packages (from bokeh->datascience) (5.3.1)\n",
      "Requirement already satisfied: typing-extensions>=3.7.4 in c:\\users\\lenovo\\anaconda3\\lib\\site-packages (from bokeh->datascience) (3.7.4.1)\n",
      "Requirement already satisfied: pillow>=4.0 in c:\\users\\lenovo\\anaconda3\\lib\\site-packages (from bokeh->datascience) (7.0.0)\n",
      "Requirement already satisfied: tornado>=5 in c:\\users\\lenovo\\anaconda3\\lib\\site-packages (from bokeh->datascience) (6.0.4)\n",
      "Requirement already satisfied: urllib3!=1.25.0,!=1.25.1,<1.26,>=1.21.1 in c:\\users\\lenovo\\anaconda3\\lib\\site-packages (from requests->folium>=0.9.1->datascience) (1.25.8)\n",
      "Requirement already satisfied: idna<3,>=2.5 in c:\\users\\lenovo\\anaconda3\\lib\\site-packages (from requests->folium>=0.9.1->datascience) (2.9)\n",
      "Requirement already satisfied: chardet<4,>=3.0.2 in c:\\users\\lenovo\\anaconda3\\lib\\site-packages (from requests->folium>=0.9.1->datascience) (3.0.4)\n",
      "Requirement already satisfied: certifi>=2017.4.17 in c:\\users\\lenovo\\anaconda3\\lib\\site-packages (from requests->folium>=0.9.1->datascience) (2019.11.28)\n",
      "Requirement already satisfied: MarkupSafe>=0.23 in c:\\users\\lenovo\\anaconda3\\lib\\site-packages (from jinja2>=2.9->folium>=0.9.1->datascience) (1.1.1)\n",
      "Requirement already satisfied: six in c:\\users\\lenovo\\anaconda3\\lib\\site-packages (from packaging->sphinx->datascience) (1.14.0)\n",
      "Requirement already satisfied: ipython-genutils in c:\\users\\lenovo\\anaconda3\\lib\\site-packages (from traitlets>=4.2->ipython->datascience) (0.2.0)\n",
      "Requirement already satisfied: parso>=0.5.2 in c:\\users\\lenovo\\anaconda3\\lib\\site-packages (from jedi>=0.10->ipython->datascience) (0.5.2)\n",
      "Requirement already satisfied: zipp>=0.5 in c:\\users\\lenovo\\anaconda3\\lib\\site-packages (from importlib-metadata>=0.12->pytest->datascience) (2.2.0)\n",
      "Building wheels for collected packages: datascience\n",
      "  Building wheel for datascience (setup.py): started\n",
      "  Building wheel for datascience (setup.py): finished with status 'done'\n",
      "  Created wheel for datascience: filename=datascience-0.15.6-py3-none-any.whl size=43854 sha256=8dfc06c479b92b68763eb6fa1cd1aa5acaf24171d79b77d8e6575832f40ec553\n",
      "  Stored in directory: c:\\users\\lenovo\\appdata\\local\\pip\\cache\\wheels\\9d\\bc\\47\\70c57d23e7154a3040995ed04a9c6fa81e6b3eed95c2cb43b2\n",
      "Successfully built datascience\n",
      "Installing collected packages: branca, folium, coverage, coveralls, datascience\n",
      "Successfully installed branca-0.4.1 coverage-5.1 coveralls-2.0.0 datascience-0.15.6 folium-0.11.0\n",
      "Note: you may need to restart the kernel to use updated packages.\n"
     ]
    }
   ],
   "source": [
    "pip install datascience"
   ]
  },
  {
   "cell_type": "code",
   "execution_count": 8,
   "metadata": {},
   "outputs": [
    {
     "name": "stdout",
     "output_type": "stream",
     "text": [
      "Collecting prob140\n",
      "  Downloading prob140-0.4.1.4.tar.gz (18 kB)\n",
      "Requirement already satisfied: datascience in c:\\users\\lenovo\\anaconda3\\lib\\site-packages (from prob140) (0.15.6)\n",
      "Requirement already satisfied: folium in c:\\users\\lenovo\\anaconda3\\lib\\site-packages (from prob140) (0.11.0)\n",
      "Requirement already satisfied: sphinx in c:\\users\\lenovo\\anaconda3\\lib\\site-packages (from prob140) (2.4.0)\n",
      "Requirement already satisfied: setuptools in c:\\users\\lenovo\\anaconda3\\lib\\site-packages (from prob140) (46.1.1.post20200323)\n",
      "Requirement already satisfied: sympy in c:\\users\\lenovo\\anaconda3\\lib\\site-packages (from prob140) (1.5.1)\n",
      "Requirement already satisfied: numpy in c:\\users\\lenovo\\anaconda3\\lib\\site-packages (from datascience->prob140) (1.18.1)\n",
      "Requirement already satisfied: coverage in c:\\users\\lenovo\\anaconda3\\lib\\site-packages (from datascience->prob140) (5.1)\n",
      "Requirement already satisfied: pandas in c:\\users\\lenovo\\anaconda3\\lib\\site-packages (from datascience->prob140) (1.0.3)\n",
      "Requirement already satisfied: bokeh in c:\\users\\lenovo\\anaconda3\\lib\\site-packages (from datascience->prob140) (2.0.0)\n",
      "Requirement already satisfied: matplotlib>=3.0.0 in c:\\users\\lenovo\\anaconda3\\lib\\site-packages (from datascience->prob140) (3.1.3)\n",
      "Requirement already satisfied: ipython in c:\\users\\lenovo\\anaconda3\\lib\\site-packages (from datascience->prob140) (7.13.0)\n",
      "Requirement already satisfied: scipy in c:\\users\\lenovo\\anaconda3\\lib\\site-packages (from datascience->prob140) (1.4.1)\n",
      "Requirement already satisfied: pytest in c:\\users\\lenovo\\anaconda3\\lib\\site-packages (from datascience->prob140) (5.4.1)\n",
      "Requirement already satisfied: coveralls in c:\\users\\lenovo\\anaconda3\\lib\\site-packages (from datascience->prob140) (2.0.0)\n",
      "Requirement already satisfied: branca>=0.3.0 in c:\\users\\lenovo\\anaconda3\\lib\\site-packages (from folium->prob140) (0.4.1)\n",
      "Requirement already satisfied: jinja2>=2.9 in c:\\users\\lenovo\\anaconda3\\lib\\site-packages (from folium->prob140) (2.11.1)\n",
      "Requirement already satisfied: requests in c:\\users\\lenovo\\anaconda3\\lib\\site-packages (from folium->prob140) (2.23.0)\n",
      "Requirement already satisfied: sphinxcontrib-jsmath in c:\\users\\lenovo\\anaconda3\\lib\\site-packages (from sphinx->prob140) (1.0.1)\n",
      "Requirement already satisfied: snowballstemmer>=1.1 in c:\\users\\lenovo\\anaconda3\\lib\\site-packages (from sphinx->prob140) (2.0.0)\n",
      "Requirement already satisfied: packaging in c:\\users\\lenovo\\anaconda3\\lib\\site-packages (from sphinx->prob140) (20.3)\n",
      "Requirement already satisfied: sphinxcontrib-qthelp in c:\\users\\lenovo\\anaconda3\\lib\\site-packages (from sphinx->prob140) (1.0.3)\n",
      "Requirement already satisfied: alabaster<0.8,>=0.7 in c:\\users\\lenovo\\anaconda3\\lib\\site-packages (from sphinx->prob140) (0.7.12)\n",
      "Requirement already satisfied: Pygments>=2.0 in c:\\users\\lenovo\\anaconda3\\lib\\site-packages (from sphinx->prob140) (2.6.1)\n",
      "Requirement already satisfied: babel!=2.0,>=1.3 in c:\\users\\lenovo\\anaconda3\\lib\\site-packages (from sphinx->prob140) (2.8.0)\n",
      "Requirement already satisfied: sphinxcontrib-devhelp in c:\\users\\lenovo\\anaconda3\\lib\\site-packages (from sphinx->prob140) (1.0.2)\n",
      "Requirement already satisfied: sphinxcontrib-applehelp in c:\\users\\lenovo\\anaconda3\\lib\\site-packages (from sphinx->prob140) (1.0.2)\n",
      "Requirement already satisfied: docutils>=0.12 in c:\\users\\lenovo\\anaconda3\\lib\\site-packages (from sphinx->prob140) (0.16)\n",
      "Requirement already satisfied: imagesize in c:\\users\\lenovo\\anaconda3\\lib\\site-packages (from sphinx->prob140) (1.2.0)\n",
      "Requirement already satisfied: sphinxcontrib-htmlhelp in c:\\users\\lenovo\\anaconda3\\lib\\site-packages (from sphinx->prob140) (1.0.3)\n",
      "Requirement already satisfied: colorama>=0.3.5; sys_platform == \"win32\" in c:\\users\\lenovo\\anaconda3\\lib\\site-packages (from sphinx->prob140) (0.4.3)\n",
      "Requirement already satisfied: sphinxcontrib-serializinghtml in c:\\users\\lenovo\\anaconda3\\lib\\site-packages (from sphinx->prob140) (1.1.4)\n",
      "Requirement already satisfied: mpmath>=0.19 in c:\\users\\lenovo\\anaconda3\\lib\\site-packages (from sympy->prob140) (1.1.0)\n",
      "Requirement already satisfied: pytz>=2017.2 in c:\\users\\lenovo\\anaconda3\\lib\\site-packages (from pandas->datascience->prob140) (2019.3)\n",
      "Requirement already satisfied: python-dateutil>=2.6.1 in c:\\users\\lenovo\\anaconda3\\lib\\site-packages (from pandas->datascience->prob140) (2.8.1)\n",
      "Requirement already satisfied: typing-extensions>=3.7.4 in c:\\users\\lenovo\\anaconda3\\lib\\site-packages (from bokeh->datascience->prob140) (3.7.4.1)\n",
      "Requirement already satisfied: PyYAML>=3.10 in c:\\users\\lenovo\\anaconda3\\lib\\site-packages (from bokeh->datascience->prob140) (5.3.1)\n",
      "Requirement already satisfied: pillow>=4.0 in c:\\users\\lenovo\\anaconda3\\lib\\site-packages (from bokeh->datascience->prob140) (7.0.0)\n",
      "Requirement already satisfied: tornado>=5 in c:\\users\\lenovo\\anaconda3\\lib\\site-packages (from bokeh->datascience->prob140) (6.0.4)\n",
      "Requirement already satisfied: cycler>=0.10 in c:\\users\\lenovo\\anaconda3\\lib\\site-packages (from matplotlib>=3.0.0->datascience->prob140) (0.10.0)\n",
      "Requirement already satisfied: pyparsing!=2.0.4,!=2.1.2,!=2.1.6,>=2.0.1 in c:\\users\\lenovo\\anaconda3\\lib\\site-packages (from matplotlib>=3.0.0->datascience->prob140) (2.4.6)\n",
      "Requirement already satisfied: kiwisolver>=1.0.1 in c:\\users\\lenovo\\anaconda3\\lib\\site-packages (from matplotlib>=3.0.0->datascience->prob140) (1.1.0)\n",
      "Requirement already satisfied: pickleshare in c:\\users\\lenovo\\anaconda3\\lib\\site-packages (from ipython->datascience->prob140) (0.7.5)\n",
      "Requirement already satisfied: decorator in c:\\users\\lenovo\\anaconda3\\lib\\site-packages (from ipython->datascience->prob140) (4.4.2)\n",
      "Requirement already satisfied: backcall in c:\\users\\lenovo\\anaconda3\\lib\\site-packages (from ipython->datascience->prob140) (0.1.0)\n",
      "Requirement already satisfied: traitlets>=4.2 in c:\\users\\lenovo\\anaconda3\\lib\\site-packages (from ipython->datascience->prob140) (4.3.3)\n",
      "Requirement already satisfied: prompt-toolkit!=3.0.0,!=3.0.1,<3.1.0,>=2.0.0 in c:\\users\\lenovo\\anaconda3\\lib\\site-packages (from ipython->datascience->prob140) (3.0.3)\n",
      "Requirement already satisfied: jedi>=0.10 in c:\\users\\lenovo\\anaconda3\\lib\\site-packages (from ipython->datascience->prob140) (0.15.2)\n",
      "Requirement already satisfied: py>=1.5.0 in c:\\users\\lenovo\\anaconda3\\lib\\site-packages (from pytest->datascience->prob140) (1.8.1)\n",
      "Requirement already satisfied: attrs>=17.4.0 in c:\\users\\lenovo\\anaconda3\\lib\\site-packages (from pytest->datascience->prob140) (19.3.0)\n",
      "Requirement already satisfied: more-itertools>=4.0.0 in c:\\users\\lenovo\\anaconda3\\lib\\site-packages (from pytest->datascience->prob140) (8.2.0)\n",
      "Requirement already satisfied: pluggy<1.0,>=0.12 in c:\\users\\lenovo\\anaconda3\\lib\\site-packages (from pytest->datascience->prob140) (0.13.1)\n",
      "Requirement already satisfied: wcwidth in c:\\users\\lenovo\\anaconda3\\lib\\site-packages (from pytest->datascience->prob140) (0.1.8)\n",
      "Requirement already satisfied: importlib-metadata>=0.12 in c:\\users\\lenovo\\anaconda3\\lib\\site-packages (from pytest->datascience->prob140) (1.5.0)\n",
      "Requirement already satisfied: atomicwrites>=1.0 in c:\\users\\lenovo\\anaconda3\\lib\\site-packages (from pytest->datascience->prob140) (1.3.0)\n",
      "Requirement already satisfied: docopt>=0.6.1 in c:\\users\\lenovo\\anaconda3\\lib\\site-packages (from coveralls->datascience->prob140) (0.6.2)\n",
      "Requirement already satisfied: MarkupSafe>=0.23 in c:\\users\\lenovo\\anaconda3\\lib\\site-packages (from jinja2>=2.9->folium->prob140) (1.1.1)\n",
      "Requirement already satisfied: idna<3,>=2.5 in c:\\users\\lenovo\\anaconda3\\lib\\site-packages (from requests->folium->prob140) (2.9)\n",
      "Requirement already satisfied: urllib3!=1.25.0,!=1.25.1,<1.26,>=1.21.1 in c:\\users\\lenovo\\anaconda3\\lib\\site-packages (from requests->folium->prob140) (1.25.8)\n",
      "Requirement already satisfied: certifi>=2017.4.17 in c:\\users\\lenovo\\anaconda3\\lib\\site-packages (from requests->folium->prob140) (2019.11.28)\n",
      "Requirement already satisfied: chardet<4,>=3.0.2 in c:\\users\\lenovo\\anaconda3\\lib\\site-packages (from requests->folium->prob140) (3.0.4)\n",
      "Requirement already satisfied: six in c:\\users\\lenovo\\anaconda3\\lib\\site-packages (from packaging->sphinx->prob140) (1.14.0)\n",
      "Requirement already satisfied: ipython-genutils in c:\\users\\lenovo\\anaconda3\\lib\\site-packages (from traitlets>=4.2->ipython->datascience->prob140) (0.2.0)\n",
      "Requirement already satisfied: parso>=0.5.2 in c:\\users\\lenovo\\anaconda3\\lib\\site-packages (from jedi>=0.10->ipython->datascience->prob140) (0.5.2)\n",
      "Requirement already satisfied: zipp>=0.5 in c:\\users\\lenovo\\anaconda3\\lib\\site-packages (from importlib-metadata>=0.12->pytest->datascience->prob140) (2.2.0)\n",
      "Building wheels for collected packages: prob140\n",
      "  Building wheel for prob140 (setup.py): started\n",
      "  Building wheel for prob140 (setup.py): finished with status 'done'\n",
      "  Created wheel for prob140: filename=prob140-0.4.1.4-py3-none-any.whl size=20541 sha256=d24d2f6f9268955bc135806f2a0f7e95634fbca832cef684c6626ea87bca7e3f\n",
      "  Stored in directory: c:\\users\\lenovo\\appdata\\local\\pip\\cache\\wheels\\6a\\03\\34\\0d6d7ad9ec524a6e142ecbc4ebe983a76e1c1d573ac5f16555\n",
      "Successfully built prob140\n",
      "Installing collected packages: prob140\n",
      "Successfully installed prob140-0.4.1.4\n",
      "Note: you may need to restart the kernel to use updated packages.\n"
     ]
    }
   ],
   "source": [
    "pip install prob140"
   ]
  },
  {
   "cell_type": "code",
   "execution_count": 3,
   "metadata": {},
   "outputs": [],
   "source": [
    "import warnings\n",
    "warnings.filterwarnings('ignore')"
   ]
  },
  {
   "cell_type": "code",
   "execution_count": 4,
   "metadata": {},
   "outputs": [],
   "source": [
    "from datascience import *\n",
    "from prob140 import *\n",
    "import numpy as np\n",
    "import matplotlib.pyplot as plt\n",
    "%matplotlib inline\n",
    "plt.style.use('fivethirtyeight')"
   ]
  },
  {
   "cell_type": "markdown",
   "metadata": {},
   "source": [
    "# CONSTRUCTING JOINT DISTRIBUTIONS"
   ]
  },
  {
   "cell_type": "markdown",
   "metadata": {},
   "source": [
    "### Distribution Basics"
   ]
  },
  {
   "cell_type": "code",
   "execution_count": 35,
   "metadata": {},
   "outputs": [
    {
     "name": "stdout",
     "output_type": "stream",
     "text": [
      "X    | Y\n",
      "1    | 1\n",
      "1    | 4\n",
      "1    | 7\n",
      "2    | 1\n",
      "2    | 4\n",
      "2    | 7\n"
     ]
    }
   ],
   "source": [
    "data = Table().domain(make_array(1, 2), np.arange(1, 9, 3))\n",
    "print(data)"
   ]
  },
  {
   "cell_type": "code",
   "execution_count": 36,
   "metadata": {},
   "outputs": [
    {
     "name": "stdout",
     "output_type": "stream",
     "text": [
      "     X=1  X=2\n",
      "Y=7  0.0  0.1\n",
      "Y=4  0.1  0.1\n",
      "Y=1  0.3  0.4\n"
     ]
    }
   ],
   "source": [
    "data = data.probability([0.3, 0.1, 0.0, 0.4,0.1, 0.1])\n",
    "print(data)"
   ]
  },
  {
   "cell_type": "markdown",
   "metadata": {},
   "source": [
    "### Naming the Variables"
   ]
  },
  {
   "cell_type": "code",
   "execution_count": 17,
   "metadata": {},
   "outputs": [
    {
     "name": "stdout",
     "output_type": "stream",
     "text": [
      "      H1=0.2  H1=0.8\n",
      "H2=2     0.0     0.1\n",
      "H2=1     0.1     0.1\n",
      "H2=0     0.3     0.4\n"
     ]
    }
   ],
   "source": [
    "heads = Table().domain(\"H1\",[0.2,0.8],\"H2\",[2,1,0]).probability(make_array(10*0.0, 10*0.01, 10*0.03, 10*0.01, \n",
    "                                                                           10*0.01, 10*0.04))\n",
    "print(heads)"
   ]
  },
  {
   "cell_type": "markdown",
   "metadata": {},
   "source": [
    "# Marginal Distribution"
   ]
  },
  {
   "cell_type": "code",
   "execution_count": 18,
   "metadata": {},
   "outputs": [
    {
     "data": {
      "text/html": [
       "<div>\n",
       "<style scoped>\n",
       "    .dataframe tbody tr th:only-of-type {\n",
       "        vertical-align: middle;\n",
       "    }\n",
       "\n",
       "    .dataframe tbody tr th {\n",
       "        vertical-align: top;\n",
       "    }\n",
       "\n",
       "    .dataframe thead th {\n",
       "        text-align: right;\n",
       "    }\n",
       "</style>\n",
       "<table border=\"1\" class=\"dataframe\">\n",
       "  <thead>\n",
       "    <tr style=\"text-align: right;\">\n",
       "      <th></th>\n",
       "      <th>H1=0.2</th>\n",
       "      <th>H1=0.8</th>\n",
       "    </tr>\n",
       "  </thead>\n",
       "  <tbody>\n",
       "    <tr>\n",
       "      <th>H2=2</th>\n",
       "      <td>0.0</td>\n",
       "      <td>0.1</td>\n",
       "    </tr>\n",
       "    <tr>\n",
       "      <th>H2=1</th>\n",
       "      <td>0.1</td>\n",
       "      <td>0.1</td>\n",
       "    </tr>\n",
       "    <tr>\n",
       "      <th>H2=0</th>\n",
       "      <td>0.3</td>\n",
       "      <td>0.4</td>\n",
       "    </tr>\n",
       "    <tr>\n",
       "      <th>Sum: Marginal of H1</th>\n",
       "      <td>0.4</td>\n",
       "      <td>0.6</td>\n",
       "    </tr>\n",
       "  </tbody>\n",
       "</table>\n",
       "</div>"
      ],
      "text/plain": [
       "                     H1=0.2  H1=0.8\n",
       "H2=2                    0.0     0.1\n",
       "H2=1                    0.1     0.1\n",
       "H2=0                    0.3     0.4\n",
       "Sum: Marginal of H1     0.4     0.6"
      ]
     },
     "execution_count": 18,
     "metadata": {},
     "output_type": "execute_result"
    }
   ],
   "source": [
    "heads.marginal(\"H1\")"
   ]
  },
  {
   "cell_type": "code",
   "execution_count": 19,
   "metadata": {},
   "outputs": [
    {
     "data": {
      "text/html": [
       "<div>\n",
       "<style scoped>\n",
       "    .dataframe tbody tr th:only-of-type {\n",
       "        vertical-align: middle;\n",
       "    }\n",
       "\n",
       "    .dataframe tbody tr th {\n",
       "        vertical-align: top;\n",
       "    }\n",
       "\n",
       "    .dataframe thead th {\n",
       "        text-align: right;\n",
       "    }\n",
       "</style>\n",
       "<table border=\"1\" class=\"dataframe\">\n",
       "  <thead>\n",
       "    <tr style=\"text-align: right;\">\n",
       "      <th></th>\n",
       "      <th>H1=0.2</th>\n",
       "      <th>H1=0.8</th>\n",
       "      <th>Sum: Marginal of H2</th>\n",
       "    </tr>\n",
       "  </thead>\n",
       "  <tbody>\n",
       "    <tr>\n",
       "      <th>H2=2</th>\n",
       "      <td>0.0</td>\n",
       "      <td>0.1</td>\n",
       "      <td>0.1</td>\n",
       "    </tr>\n",
       "    <tr>\n",
       "      <th>H2=1</th>\n",
       "      <td>0.1</td>\n",
       "      <td>0.1</td>\n",
       "      <td>0.2</td>\n",
       "    </tr>\n",
       "    <tr>\n",
       "      <th>H2=0</th>\n",
       "      <td>0.3</td>\n",
       "      <td>0.4</td>\n",
       "      <td>0.7</td>\n",
       "    </tr>\n",
       "  </tbody>\n",
       "</table>\n",
       "</div>"
      ],
      "text/plain": [
       "      H1=0.2  H1=0.8  Sum: Marginal of H2\n",
       "H2=2     0.0     0.1                  0.1\n",
       "H2=1     0.1     0.1                  0.2\n",
       "H2=0     0.3     0.4                  0.7"
      ]
     },
     "execution_count": 19,
     "metadata": {},
     "output_type": "execute_result"
    }
   ],
   "source": [
    "heads.marginal(\"H2\")"
   ]
  },
  {
   "cell_type": "code",
   "execution_count": 20,
   "metadata": {},
   "outputs": [
    {
     "data": {
      "text/html": [
       "<div>\n",
       "<style scoped>\n",
       "    .dataframe tbody tr th:only-of-type {\n",
       "        vertical-align: middle;\n",
       "    }\n",
       "\n",
       "    .dataframe tbody tr th {\n",
       "        vertical-align: top;\n",
       "    }\n",
       "\n",
       "    .dataframe thead th {\n",
       "        text-align: right;\n",
       "    }\n",
       "</style>\n",
       "<table border=\"1\" class=\"dataframe\">\n",
       "  <thead>\n",
       "    <tr style=\"text-align: right;\">\n",
       "      <th></th>\n",
       "      <th>H1=0.2</th>\n",
       "      <th>H1=0.8</th>\n",
       "      <th>Sum: Marginal of H2</th>\n",
       "    </tr>\n",
       "  </thead>\n",
       "  <tbody>\n",
       "    <tr>\n",
       "      <th>H2=2</th>\n",
       "      <td>0.0</td>\n",
       "      <td>0.1</td>\n",
       "      <td>0.1</td>\n",
       "    </tr>\n",
       "    <tr>\n",
       "      <th>H2=1</th>\n",
       "      <td>0.1</td>\n",
       "      <td>0.1</td>\n",
       "      <td>0.2</td>\n",
       "    </tr>\n",
       "    <tr>\n",
       "      <th>H2=0</th>\n",
       "      <td>0.3</td>\n",
       "      <td>0.4</td>\n",
       "      <td>0.7</td>\n",
       "    </tr>\n",
       "    <tr>\n",
       "      <th>Sum: Marginal of H1</th>\n",
       "      <td>0.4</td>\n",
       "      <td>0.6</td>\n",
       "      <td>1.0</td>\n",
       "    </tr>\n",
       "  </tbody>\n",
       "</table>\n",
       "</div>"
      ],
      "text/plain": [
       "                     H1=0.2  H1=0.8  Sum: Marginal of H2\n",
       "H2=2                    0.0     0.1                  0.1\n",
       "H2=1                    0.1     0.1                  0.2\n",
       "H2=0                    0.3     0.4                  0.7\n",
       "Sum: Marginal of H1     0.4     0.6                  1.0"
      ]
     },
     "execution_count": 20,
     "metadata": {},
     "output_type": "execute_result"
    }
   ],
   "source": [
    "heads.both_marginals()"
   ]
  },
  {
   "cell_type": "code",
   "execution_count": 21,
   "metadata": {},
   "outputs": [
    {
     "data": {
      "text/html": [
       "<table border=\"1\" class=\"dataframe\">\n",
       "    <thead>\n",
       "        <tr>\n",
       "            <th>Value</th> <th>Probability</th>\n",
       "        </tr>\n",
       "    </thead>\n",
       "    <tbody>\n",
       "        <tr>\n",
       "            <td>0.2  </td> <td>0.4        </td>\n",
       "        </tr>\n",
       "        <tr>\n",
       "            <td>0.8  </td> <td>0.6        </td>\n",
       "        </tr>\n",
       "    </tbody>\n",
       "</table>"
      ],
      "text/plain": [
       "Value | Probability\n",
       "0.2   | 0.4\n",
       "0.8   | 0.6"
      ]
     },
     "execution_count": 21,
     "metadata": {},
     "output_type": "execute_result"
    }
   ],
   "source": [
    "heads.marginal_dist(\"H1\")"
   ]
  },
  {
   "cell_type": "code",
   "execution_count": 22,
   "metadata": {},
   "outputs": [
    {
     "data": {
      "image/png": "[encoded data removed]",
      "text/plain": [
       "<Figure size 432x288 with 1 Axes>"
      ]
     },
     "metadata": {},
     "output_type": "display_data"
    }
   ],
   "source": [
    "Plot(heads.marginal_dist(\"H1\"), width=0.1)"
   ]
  },
  {
   "cell_type": "code",
   "execution_count": 23,
   "metadata": {},
   "outputs": [
    {
     "data": {
      "text/html": [
       "<table border=\"1\" class=\"dataframe\">\n",
       "    <thead>\n",
       "        <tr>\n",
       "            <th>Value</th> <th>Probability</th>\n",
       "        </tr>\n",
       "    </thead>\n",
       "    <tbody>\n",
       "        <tr>\n",
       "            <td>2    </td> <td>0.1        </td>\n",
       "        </tr>\n",
       "        <tr>\n",
       "            <td>1    </td> <td>0.2        </td>\n",
       "        </tr>\n",
       "        <tr>\n",
       "            <td>0    </td> <td>0.7        </td>\n",
       "        </tr>\n",
       "    </tbody>\n",
       "</table>"
      ],
      "text/plain": [
       "Value | Probability\n",
       "2     | 0.1\n",
       "1     | 0.2\n",
       "0     | 0.7"
      ]
     },
     "execution_count": 23,
     "metadata": {},
     "output_type": "execute_result"
    }
   ],
   "source": [
    "heads.marginal_dist(\"H2\")"
   ]
  },
  {
   "cell_type": "code",
   "execution_count": 26,
   "metadata": {},
   "outputs": [
    {
     "data": {
      "image/png": "[encoded data removed]",
      "text/plain": [
       "<Figure size 432x288 with 1 Axes>"
      ]
     },
     "metadata": {},
     "output_type": "display_data"
    }
   ],
   "source": [
    "Plot(heads.marginal_dist(\"H2\"), width=0.3)"
   ]
  },
  {
   "cell_type": "markdown",
   "metadata": {},
   "source": [
    "# Conditional Distributions"
   ]
  },
  {
   "cell_type": "code",
   "execution_count": 27,
   "metadata": {},
   "outputs": [
    {
     "data": {
      "text/html": [
       "<div>\n",
       "<style scoped>\n",
       "    .dataframe tbody tr th:only-of-type {\n",
       "        vertical-align: middle;\n",
       "    }\n",
       "\n",
       "    .dataframe tbody tr th {\n",
       "        vertical-align: top;\n",
       "    }\n",
       "\n",
       "    .dataframe thead th {\n",
       "        text-align: right;\n",
       "    }\n",
       "</style>\n",
       "<table border=\"1\" class=\"dataframe\">\n",
       "  <thead>\n",
       "    <tr style=\"text-align: right;\">\n",
       "      <th></th>\n",
       "      <th>H1=0.2</th>\n",
       "      <th>H1=0.8</th>\n",
       "      <th>Sum</th>\n",
       "    </tr>\n",
       "  </thead>\n",
       "  <tbody>\n",
       "    <tr>\n",
       "      <th>Dist. of H1 | H2=2</th>\n",
       "      <td>0.000000</td>\n",
       "      <td>1.000000</td>\n",
       "      <td>1.0</td>\n",
       "    </tr>\n",
       "    <tr>\n",
       "      <th>Dist. of H1 | H2=1</th>\n",
       "      <td>0.500000</td>\n",
       "      <td>0.500000</td>\n",
       "      <td>1.0</td>\n",
       "    </tr>\n",
       "    <tr>\n",
       "      <th>Dist. of H1 | H2=0</th>\n",
       "      <td>0.428571</td>\n",
       "      <td>0.571429</td>\n",
       "      <td>1.0</td>\n",
       "    </tr>\n",
       "    <tr>\n",
       "      <th>Marginal of H1</th>\n",
       "      <td>0.400000</td>\n",
       "      <td>0.600000</td>\n",
       "      <td>1.0</td>\n",
       "    </tr>\n",
       "  </tbody>\n",
       "</table>\n",
       "</div>"
      ],
      "text/plain": [
       "                      H1=0.2    H1=0.8  Sum\n",
       "Dist. of H1 | H2=2  0.000000  1.000000  1.0\n",
       "Dist. of H1 | H2=1  0.500000  0.500000  1.0\n",
       "Dist. of H1 | H2=0  0.428571  0.571429  1.0\n",
       "Marginal of H1      0.400000  0.600000  1.0"
      ]
     },
     "execution_count": 27,
     "metadata": {},
     "output_type": "execute_result"
    }
   ],
   "source": [
    "heads.conditional_dist(\"H1\", \"H2\")"
   ]
  },
  {
   "cell_type": "code",
   "execution_count": 29,
   "metadata": {},
   "outputs": [
    {
     "data": {
      "text/html": [
       "<div>\n",
       "<style scoped>\n",
       "    .dataframe tbody tr th:only-of-type {\n",
       "        vertical-align: middle;\n",
       "    }\n",
       "\n",
       "    .dataframe tbody tr th {\n",
       "        vertical-align: top;\n",
       "    }\n",
       "\n",
       "    .dataframe thead th {\n",
       "        text-align: right;\n",
       "    }\n",
       "</style>\n",
       "<table border=\"1\" class=\"dataframe\">\n",
       "  <thead>\n",
       "    <tr style=\"text-align: right;\">\n",
       "      <th></th>\n",
       "      <th>Dist. of H2 | H1=0.2</th>\n",
       "      <th>Dist. of H2 | H1=0.8</th>\n",
       "      <th>Marginal of H2</th>\n",
       "    </tr>\n",
       "  </thead>\n",
       "  <tbody>\n",
       "    <tr>\n",
       "      <th>H2=2</th>\n",
       "      <td>0.00</td>\n",
       "      <td>0.166667</td>\n",
       "      <td>0.1</td>\n",
       "    </tr>\n",
       "    <tr>\n",
       "      <th>H2=1</th>\n",
       "      <td>0.25</td>\n",
       "      <td>0.166667</td>\n",
       "      <td>0.2</td>\n",
       "    </tr>\n",
       "    <tr>\n",
       "      <th>H2=0</th>\n",
       "      <td>0.75</td>\n",
       "      <td>0.666667</td>\n",
       "      <td>0.7</td>\n",
       "    </tr>\n",
       "    <tr>\n",
       "      <th>Sum</th>\n",
       "      <td>1.00</td>\n",
       "      <td>1.000000</td>\n",
       "      <td>1.0</td>\n",
       "    </tr>\n",
       "  </tbody>\n",
       "</table>\n",
       "</div>"
      ],
      "text/plain": [
       "      Dist. of H2 | H1=0.2  Dist. of H2 | H1=0.8  Marginal of H2\n",
       "H2=2                  0.00              0.166667             0.1\n",
       "H2=1                  0.25              0.166667             0.2\n",
       "H2=0                  0.75              0.666667             0.7\n",
       "Sum                   1.00              1.000000             1.0"
      ]
     },
     "execution_count": 29,
     "metadata": {},
     "output_type": "execute_result"
    }
   ],
   "source": [
    "heads.conditional_dist(\"H2\", \"H1\")"
   ]
  },
  {
   "cell_type": "code",
   "execution_count": null,
   "metadata": {},
   "outputs": [],
   "source": []
  }
 ],
 "metadata": {
  "kernelspec": {
   "display_name": "Python 3",
   "language": "python",
   "name": "python3"
  },
  "language_info": {
   "codemirror_mode": {
    "name": "ipython",
    "version": 3
   },
   "file_extension": ".py",
   "mimetype": "text/x-python",
   "name": "python",
   "nbconvert_exporter": "python",
   "pygments_lexer": "ipython3",
   "version": "3.7.6"
  }
 },
 "nbformat": 4,
 "nbformat_minor": 4
}
